{
  "nbformat": 4,
  "nbformat_minor": 0,
  "metadata": {
    "colab": {
      "provenance": [],
      "collapsed_sections": [],
      "authorship_tag": "ABX9TyNHgRGO0YCJaM1sNgWU6GuU",
      "include_colab_link": true
    },
    "kernelspec": {
      "name": "python3",
      "display_name": "Python 3"
    },
    "language_info": {
      "name": "python"
    }
  },
  "cells": [
    {
      "cell_type": "markdown",
      "metadata": {
        "id": "view-in-github",
        "colab_type": "text"
      },
      "source": [
        "<a href=\"https://colab.research.google.com/github/atmendes/Data-Analytics-Foundations/blob/main/Last_Class.ipynb\" target=\"_parent\"><img src=\"https://colab.research.google.com/assets/colab-badge.svg\" alt=\"Open In Colab\"/></a>"
      ]
    },
    {
      "cell_type": "code",
      "execution_count": null,
      "metadata": {
        "id": "nv9SY1Bjk9DK"
      },
      "outputs": [],
      "source": [
        "# Import SQL pip install and then the SQL packege \"pandasql\"= Combo of panda and sql. Need exclamation because we do not have it installed - it's outside\n"
      ]
    },
    {
      "cell_type": "code",
      "source": [
        "!pip install pandasql"
      ],
      "metadata": {
        "colab": {
          "base_uri": "https://localhost:8080/"
        },
        "id": "HJd6lRpYlaIF",
        "outputId": "c8923f3a-f417-4f5a-d490-2614fa61442f"
      },
      "execution_count": 1,
      "outputs": [
        {
          "output_type": "stream",
          "name": "stdout",
          "text": [
            "Looking in indexes: https://pypi.org/simple, https://us-python.pkg.dev/colab-wheels/public/simple/\n",
            "Collecting pandasql\n",
            "  Downloading pandasql-0.7.3.tar.gz (26 kB)\n",
            "Requirement already satisfied: numpy in /usr/local/lib/python3.7/dist-packages (from pandasql) (1.21.6)\n",
            "Requirement already satisfied: pandas in /usr/local/lib/python3.7/dist-packages (from pandasql) (1.3.5)\n",
            "Requirement already satisfied: sqlalchemy in /usr/local/lib/python3.7/dist-packages (from pandasql) (1.4.42)\n",
            "Requirement already satisfied: python-dateutil>=2.7.3 in /usr/local/lib/python3.7/dist-packages (from pandas->pandasql) (2.8.2)\n",
            "Requirement already satisfied: pytz>=2017.3 in /usr/local/lib/python3.7/dist-packages (from pandas->pandasql) (2022.5)\n",
            "Requirement already satisfied: six>=1.5 in /usr/local/lib/python3.7/dist-packages (from python-dateutil>=2.7.3->pandas->pandasql) (1.15.0)\n",
            "Requirement already satisfied: greenlet!=0.4.17 in /usr/local/lib/python3.7/dist-packages (from sqlalchemy->pandasql) (1.1.3.post0)\n",
            "Requirement already satisfied: importlib-metadata in /usr/local/lib/python3.7/dist-packages (from sqlalchemy->pandasql) (4.13.0)\n",
            "Requirement already satisfied: typing-extensions>=3.6.4 in /usr/local/lib/python3.7/dist-packages (from importlib-metadata->sqlalchemy->pandasql) (4.1.1)\n",
            "Requirement already satisfied: zipp>=0.5 in /usr/local/lib/python3.7/dist-packages (from importlib-metadata->sqlalchemy->pandasql) (3.10.0)\n",
            "Building wheels for collected packages: pandasql\n",
            "  Building wheel for pandasql (setup.py) ... \u001b[?25l\u001b[?25hdone\n",
            "  Created wheel for pandasql: filename=pandasql-0.7.3-py3-none-any.whl size=26784 sha256=b21af2db8959bc788164713d555776eac45264d5ef23c374c9a3ef3504712630\n",
            "  Stored in directory: /root/.cache/pip/wheels/5c/4b/ec/41f4e116c8053c3654e2c2a47c62b4fca34cc67ef7b55deb7f\n",
            "Successfully built pandasql\n",
            "Installing collected packages: pandasql\n",
            "Successfully installed pandasql-0.7.3\n"
          ]
        }
      ]
    },
    {
      "cell_type": "code",
      "source": [
        "#import the packeges"
      ],
      "metadata": {
        "id": "Yktg_2lJ3uf0"
      },
      "execution_count": null,
      "outputs": []
    },
    {
      "cell_type": "code",
      "source": [
        "import numpy as np\n",
        "\n",
        "import pandas as pd\n",
        "import pandasql as ps #the only one which is not standard\n",
        "import matplotlib.pyplot as plt\n",
        "import seaborn as sns\n",
        "sns.set()"
      ],
      "metadata": {
        "id": "0hU5vogPmUVb"
      },
      "execution_count": 13,
      "outputs": []
    },
    {
      "cell_type": "code",
      "source": [
        "df = pd.read_csv('https://raw.githubusercontent.com/glopez21/ML-Data/main/911.csv')"
      ],
      "metadata": {
        "id": "WJrBTTfElaFv"
      },
      "execution_count": 4,
      "outputs": []
    },
    {
      "cell_type": "code",
      "source": [
        "# If we want to keep this csv- Must add csv- Click the folder and then download since it's too large"
      ],
      "metadata": {
        "id": "MBDJWAC90dcC"
      },
      "execution_count": null,
      "outputs": []
    },
    {
      "cell_type": "code",
      "source": [
        "df.to_csv('911 Data.csv')"
      ],
      "metadata": {
        "id": "pxrUyv7I0gVQ"
      },
      "execution_count": 44,
      "outputs": []
    },
    {
      "cell_type": "code",
      "source": [
        "# df= dataset, head() - fist five or you can do tail Ask what the data looks like head()"
      ],
      "metadata": {
        "id": "Scl0Rjx0nYol"
      },
      "execution_count": null,
      "outputs": []
    },
    {
      "cell_type": "code",
      "source": [
        "df.head()"
      ],
      "metadata": {
        "colab": {
          "base_uri": "https://localhost:8080/",
          "height": 250
        },
        "id": "K7eKtRg3laCn",
        "outputId": "a64d591f-40db-407a-f803-30d680ea13d6"
      },
      "execution_count": 6,
      "outputs": [
        {
          "output_type": "execute_result",
          "data": {
            "text/plain": [
              "         lat        lng                                               desc  \\\n",
              "0  40.297876 -75.581294  REINDEER CT & DEAD END;  NEW HANOVER; Station ...   \n",
              "1  40.258061 -75.264680  BRIAR PATH & WHITEMARSH LN;  HATFIELD TOWNSHIP...   \n",
              "2  40.121182 -75.351975  HAWS AVE; NORRISTOWN; 2015-12-10 @ 14:39:21-St...   \n",
              "3  40.116153 -75.343513  AIRY ST & SWEDE ST;  NORRISTOWN; Station 308A;...   \n",
              "4  40.251492 -75.603350  CHERRYWOOD CT & DEAD END;  LOWER POTTSGROVE; S...   \n",
              "\n",
              "       zip                    title            timeStamp                twp  \\\n",
              "0  19525.0   EMS: BACK PAINS/INJURY  2015-12-10 17:40:00        NEW HANOVER   \n",
              "1  19446.0  EMS: DIABETIC EMERGENCY  2015-12-10 17:40:00  HATFIELD TOWNSHIP   \n",
              "2  19401.0      Fire: GAS-ODOR/LEAK  2015-12-10 17:40:00         NORRISTOWN   \n",
              "3  19401.0   EMS: CARDIAC EMERGENCY  2015-12-10 17:40:01         NORRISTOWN   \n",
              "4      NaN           EMS: DIZZINESS  2015-12-10 17:40:01   LOWER POTTSGROVE   \n",
              "\n",
              "                         addr  e  \n",
              "0      REINDEER CT & DEAD END  1  \n",
              "1  BRIAR PATH & WHITEMARSH LN  1  \n",
              "2                    HAWS AVE  1  \n",
              "3          AIRY ST & SWEDE ST  1  \n",
              "4    CHERRYWOOD CT & DEAD END  1  "
            ],
            "text/html": [
              "\n",
              "  <div id=\"df-044c9b39-4ba2-4257-a1e4-983fbb349558\">\n",
              "    <div class=\"colab-df-container\">\n",
              "      <div>\n",
              "<style scoped>\n",
              "    .dataframe tbody tr th:only-of-type {\n",
              "        vertical-align: middle;\n",
              "    }\n",
              "\n",
              "    .dataframe tbody tr th {\n",
              "        vertical-align: top;\n",
              "    }\n",
              "\n",
              "    .dataframe thead th {\n",
              "        text-align: right;\n",
              "    }\n",
              "</style>\n",
              "<table border=\"1\" class=\"dataframe\">\n",
              "  <thead>\n",
              "    <tr style=\"text-align: right;\">\n",
              "      <th></th>\n",
              "      <th>lat</th>\n",
              "      <th>lng</th>\n",
              "      <th>desc</th>\n",
              "      <th>zip</th>\n",
              "      <th>title</th>\n",
              "      <th>timeStamp</th>\n",
              "      <th>twp</th>\n",
              "      <th>addr</th>\n",
              "      <th>e</th>\n",
              "    </tr>\n",
              "  </thead>\n",
              "  <tbody>\n",
              "    <tr>\n",
              "      <th>0</th>\n",
              "      <td>40.297876</td>\n",
              "      <td>-75.581294</td>\n",
              "      <td>REINDEER CT &amp; DEAD END;  NEW HANOVER; Station ...</td>\n",
              "      <td>19525.0</td>\n",
              "      <td>EMS: BACK PAINS/INJURY</td>\n",
              "      <td>2015-12-10 17:40:00</td>\n",
              "      <td>NEW HANOVER</td>\n",
              "      <td>REINDEER CT &amp; DEAD END</td>\n",
              "      <td>1</td>\n",
              "    </tr>\n",
              "    <tr>\n",
              "      <th>1</th>\n",
              "      <td>40.258061</td>\n",
              "      <td>-75.264680</td>\n",
              "      <td>BRIAR PATH &amp; WHITEMARSH LN;  HATFIELD TOWNSHIP...</td>\n",
              "      <td>19446.0</td>\n",
              "      <td>EMS: DIABETIC EMERGENCY</td>\n",
              "      <td>2015-12-10 17:40:00</td>\n",
              "      <td>HATFIELD TOWNSHIP</td>\n",
              "      <td>BRIAR PATH &amp; WHITEMARSH LN</td>\n",
              "      <td>1</td>\n",
              "    </tr>\n",
              "    <tr>\n",
              "      <th>2</th>\n",
              "      <td>40.121182</td>\n",
              "      <td>-75.351975</td>\n",
              "      <td>HAWS AVE; NORRISTOWN; 2015-12-10 @ 14:39:21-St...</td>\n",
              "      <td>19401.0</td>\n",
              "      <td>Fire: GAS-ODOR/LEAK</td>\n",
              "      <td>2015-12-10 17:40:00</td>\n",
              "      <td>NORRISTOWN</td>\n",
              "      <td>HAWS AVE</td>\n",
              "      <td>1</td>\n",
              "    </tr>\n",
              "    <tr>\n",
              "      <th>3</th>\n",
              "      <td>40.116153</td>\n",
              "      <td>-75.343513</td>\n",
              "      <td>AIRY ST &amp; SWEDE ST;  NORRISTOWN; Station 308A;...</td>\n",
              "      <td>19401.0</td>\n",
              "      <td>EMS: CARDIAC EMERGENCY</td>\n",
              "      <td>2015-12-10 17:40:01</td>\n",
              "      <td>NORRISTOWN</td>\n",
              "      <td>AIRY ST &amp; SWEDE ST</td>\n",
              "      <td>1</td>\n",
              "    </tr>\n",
              "    <tr>\n",
              "      <th>4</th>\n",
              "      <td>40.251492</td>\n",
              "      <td>-75.603350</td>\n",
              "      <td>CHERRYWOOD CT &amp; DEAD END;  LOWER POTTSGROVE; S...</td>\n",
              "      <td>NaN</td>\n",
              "      <td>EMS: DIZZINESS</td>\n",
              "      <td>2015-12-10 17:40:01</td>\n",
              "      <td>LOWER POTTSGROVE</td>\n",
              "      <td>CHERRYWOOD CT &amp; DEAD END</td>\n",
              "      <td>1</td>\n",
              "    </tr>\n",
              "  </tbody>\n",
              "</table>\n",
              "</div>\n",
              "      <button class=\"colab-df-convert\" onclick=\"convertToInteractive('df-044c9b39-4ba2-4257-a1e4-983fbb349558')\"\n",
              "              title=\"Convert this dataframe to an interactive table.\"\n",
              "              style=\"display:none;\">\n",
              "        \n",
              "  <svg xmlns=\"http://www.w3.org/2000/svg\" height=\"24px\"viewBox=\"0 0 24 24\"\n",
              "       width=\"24px\">\n",
              "    <path d=\"M0 0h24v24H0V0z\" fill=\"none\"/>\n",
              "    <path d=\"M18.56 5.44l.94 2.06.94-2.06 2.06-.94-2.06-.94-.94-2.06-.94 2.06-2.06.94zm-11 1L8.5 8.5l.94-2.06 2.06-.94-2.06-.94L8.5 2.5l-.94 2.06-2.06.94zm10 10l.94 2.06.94-2.06 2.06-.94-2.06-.94-.94-2.06-.94 2.06-2.06.94z\"/><path d=\"M17.41 7.96l-1.37-1.37c-.4-.4-.92-.59-1.43-.59-.52 0-1.04.2-1.43.59L10.3 9.45l-7.72 7.72c-.78.78-.78 2.05 0 2.83L4 21.41c.39.39.9.59 1.41.59.51 0 1.02-.2 1.41-.59l7.78-7.78 2.81-2.81c.8-.78.8-2.07 0-2.86zM5.41 20L4 18.59l7.72-7.72 1.47 1.35L5.41 20z\"/>\n",
              "  </svg>\n",
              "      </button>\n",
              "      \n",
              "  <style>\n",
              "    .colab-df-container {\n",
              "      display:flex;\n",
              "      flex-wrap:wrap;\n",
              "      gap: 12px;\n",
              "    }\n",
              "\n",
              "    .colab-df-convert {\n",
              "      background-color: #E8F0FE;\n",
              "      border: none;\n",
              "      border-radius: 50%;\n",
              "      cursor: pointer;\n",
              "      display: none;\n",
              "      fill: #1967D2;\n",
              "      height: 32px;\n",
              "      padding: 0 0 0 0;\n",
              "      width: 32px;\n",
              "    }\n",
              "\n",
              "    .colab-df-convert:hover {\n",
              "      background-color: #E2EBFA;\n",
              "      box-shadow: 0px 1px 2px rgba(60, 64, 67, 0.3), 0px 1px 3px 1px rgba(60, 64, 67, 0.15);\n",
              "      fill: #174EA6;\n",
              "    }\n",
              "\n",
              "    [theme=dark] .colab-df-convert {\n",
              "      background-color: #3B4455;\n",
              "      fill: #D2E3FC;\n",
              "    }\n",
              "\n",
              "    [theme=dark] .colab-df-convert:hover {\n",
              "      background-color: #434B5C;\n",
              "      box-shadow: 0px 1px 3px 1px rgba(0, 0, 0, 0.15);\n",
              "      filter: drop-shadow(0px 1px 2px rgba(0, 0, 0, 0.3));\n",
              "      fill: #FFFFFF;\n",
              "    }\n",
              "  </style>\n",
              "\n",
              "      <script>\n",
              "        const buttonEl =\n",
              "          document.querySelector('#df-044c9b39-4ba2-4257-a1e4-983fbb349558 button.colab-df-convert');\n",
              "        buttonEl.style.display =\n",
              "          google.colab.kernel.accessAllowed ? 'block' : 'none';\n",
              "\n",
              "        async function convertToInteractive(key) {\n",
              "          const element = document.querySelector('#df-044c9b39-4ba2-4257-a1e4-983fbb349558');\n",
              "          const dataTable =\n",
              "            await google.colab.kernel.invokeFunction('convertToInteractive',\n",
              "                                                     [key], {});\n",
              "          if (!dataTable) return;\n",
              "\n",
              "          const docLinkHtml = 'Like what you see? Visit the ' +\n",
              "            '<a target=\"_blank\" href=https://colab.research.google.com/notebooks/data_table.ipynb>data table notebook</a>'\n",
              "            + ' to learn more about interactive tables.';\n",
              "          element.innerHTML = '';\n",
              "          dataTable['output_type'] = 'display_data';\n",
              "          await google.colab.output.renderOutput(dataTable, element);\n",
              "          const docLink = document.createElement('div');\n",
              "          docLink.innerHTML = docLinkHtml;\n",
              "          element.appendChild(docLink);\n",
              "        }\n",
              "      </script>\n",
              "    </div>\n",
              "  </div>\n",
              "  "
            ]
          },
          "metadata": {},
          "execution_count": 6
        }
      ]
    },
    {
      "cell_type": "code",
      "source": [
        "#create a query and tell python what to do with it. Select the first five rows from df"
      ],
      "metadata": {
        "id": "VRF_CORHn7vc"
      },
      "execution_count": null,
      "outputs": []
    },
    {
      "cell_type": "code",
      "source": [
        "query = \"Select *From df limit 5\""
      ],
      "metadata": {
        "id": "CZZEru0XlZ_s"
      },
      "execution_count": 8,
      "outputs": []
    },
    {
      "cell_type": "code",
      "source": [
        "query"
      ],
      "metadata": {
        "colab": {
          "base_uri": "https://localhost:8080/",
          "height": 35
        },
        "id": "pvuR_XUMlZ87",
        "outputId": "f2cfe8e4-3e80-4965-fadb-3ec7e93ca29b"
      },
      "execution_count": 9,
      "outputs": [
        {
          "output_type": "execute_result",
          "data": {
            "text/plain": [
              "'Select *From df limit 5'"
            ],
            "application/vnd.google.colaboratory.intrinsic+json": {
              "type": "string"
            }
          },
          "metadata": {},
          "execution_count": 9
        }
      ]
    },
    {
      "cell_type": "code",
      "source": [
        "#"
      ],
      "metadata": {
        "id": "6ieD3dQvoS10"
      },
      "execution_count": null,
      "outputs": []
    },
    {
      "cell_type": "code",
      "source": [
        "print('\\n')\n",
        "print(ps.sqldf(query, locals()))"
      ],
      "metadata": {
        "colab": {
          "base_uri": "https://localhost:8080/"
        },
        "id": "_T2AATpBlZ6T",
        "outputId": "e72648a9-948f-4340-c63e-058ad61db648"
      },
      "execution_count": 11,
      "outputs": [
        {
          "output_type": "stream",
          "name": "stdout",
          "text": [
            "\n",
            "\n",
            "         lat        lng                                               desc  \\\n",
            "0  40.297876 -75.581294  REINDEER CT & DEAD END;  NEW HANOVER; Station ...   \n",
            "1  40.258061 -75.264680  BRIAR PATH & WHITEMARSH LN;  HATFIELD TOWNSHIP...   \n",
            "2  40.121182 -75.351975  HAWS AVE; NORRISTOWN; 2015-12-10 @ 14:39:21-St...   \n",
            "3  40.116153 -75.343513  AIRY ST & SWEDE ST;  NORRISTOWN; Station 308A;...   \n",
            "4  40.251492 -75.603350  CHERRYWOOD CT & DEAD END;  LOWER POTTSGROVE; S...   \n",
            "\n",
            "       zip                    title            timeStamp                twp  \\\n",
            "0  19525.0   EMS: BACK PAINS/INJURY  2015-12-10 17:40:00        NEW HANOVER   \n",
            "1  19446.0  EMS: DIABETIC EMERGENCY  2015-12-10 17:40:00  HATFIELD TOWNSHIP   \n",
            "2  19401.0      Fire: GAS-ODOR/LEAK  2015-12-10 17:40:00         NORRISTOWN   \n",
            "3  19401.0   EMS: CARDIAC EMERGENCY  2015-12-10 17:40:01         NORRISTOWN   \n",
            "4      NaN           EMS: DIZZINESS  2015-12-10 17:40:01   LOWER POTTSGROVE   \n",
            "\n",
            "                         addr  e  \n",
            "0      REINDEER CT & DEAD END  1  \n",
            "1  BRIAR PATH & WHITEMARSH LN  1  \n",
            "2                    HAWS AVE  1  \n",
            "3          AIRY ST & SWEDE ST  1  \n",
            "4    CHERRYWOOD CT & DEAD END  1  \n"
          ]
        }
      ]
    },
    {
      "cell_type": "code",
      "source": [
        "#Pip freeze- Checks all libraries installed"
      ],
      "metadata": {
        "id": "018hYcSupEWR"
      },
      "execution_count": null,
      "outputs": []
    },
    {
      "cell_type": "markdown",
      "source": [
        "# Basic Questions"
      ],
      "metadata": {
        "id": "t7AQrm-NlZ3V"
      }
    },
    {
      "cell_type": "markdown",
      "source": [
        "#What are the top 5 zipcodes for 911 calls"
      ],
      "metadata": {
        "id": "1OD1bUxMlZu-"
      }
    },
    {
      "cell_type": "code",
      "source": [
        "#Indexing the zip and give the top zip codes\n",
        "#Count the values and then give the first five"
      ],
      "metadata": {
        "id": "OEHhjkEBp4m2"
      },
      "execution_count": null,
      "outputs": []
    },
    {
      "cell_type": "code",
      "source": [
        "df['zip'].value_counts().head()"
      ],
      "metadata": {
        "colab": {
          "base_uri": "https://localhost:8080/"
        },
        "id": "um1ik-h-pLHt",
        "outputId": "645562b0-6375-41c5-95eb-a6256e92f692"
      },
      "execution_count": 12,
      "outputs": [
        {
          "output_type": "execute_result",
          "data": {
            "text/plain": [
              "19401.0    6979\n",
              "19464.0    6643\n",
              "19403.0    4854\n",
              "19446.0    4748\n",
              "19406.0    3174\n",
              "Name: zip, dtype: int64"
            ]
          },
          "metadata": {},
          "execution_count": 12
        }
      ]
    },
    {
      "cell_type": "code",
      "source": [
        "query = \"Select * From df limit 5\"\n",
        "print('\\n')\n",
        "print(ps.sqldf(query, locals()))"
      ],
      "metadata": {
        "id": "q_SosMqlpLDm"
      },
      "execution_count": null,
      "outputs": []
    },
    {
      "cell_type": "markdown",
      "source": [
        "# Above code and below give same result\n"
      ],
      "metadata": {
        "id": "mIiZACWJ04DC"
      }
    },
    {
      "cell_type": "code",
      "source": [
        "# Select everything from the list, count the zips and group by them: limit only five"
      ],
      "metadata": {
        "id": "_cKuvZAX3d1p"
      },
      "execution_count": null,
      "outputs": []
    },
    {
      "cell_type": "code",
      "source": [
        "query = \"Select * From (select zip, count(*) from df group by zip order by 2 desc) limit 5\"\n",
        "print('\\n')\n",
        "print(ps.sqldf(query, locals()))"
      ],
      "metadata": {
        "colab": {
          "base_uri": "https://localhost:8080/"
        },
        "id": "bOI5c8ROpLAF",
        "outputId": "e777d364-63db-4821-f9cc-c86491a68a16"
      },
      "execution_count": 15,
      "outputs": [
        {
          "output_type": "stream",
          "name": "stdout",
          "text": [
            "\n",
            "\n",
            "       zip  count(*)\n",
            "0      NaN     12855\n",
            "1  19401.0      6979\n",
            "2  19464.0      6643\n",
            "3  19403.0      4854\n",
            "4  19446.0      4748\n"
          ]
        }
      ]
    },
    {
      "cell_type": "code",
      "source": [],
      "metadata": {
        "id": "z3JMa7DNpK8Z"
      },
      "execution_count": null,
      "outputs": []
    },
    {
      "cell_type": "code",
      "source": [],
      "metadata": {
        "id": "tTYSaeCB08rH"
      },
      "execution_count": null,
      "outputs": []
    },
    {
      "cell_type": "code",
      "source": [],
      "metadata": {
        "id": "9zYMczO-pK4g"
      },
      "execution_count": null,
      "outputs": []
    },
    {
      "cell_type": "markdown",
      "source": [
        "#What are the top townships"
      ],
      "metadata": {
        "id": "UYl1BNMhpK0c"
      }
    },
    {
      "cell_type": "code",
      "source": [
        "#Count the values of twp and give the top 5"
      ],
      "metadata": {
        "id": "IVuRfnti1AWg"
      },
      "execution_count": null,
      "outputs": []
    },
    {
      "cell_type": "code",
      "source": [
        "df['twp'].value_counts().head()"
      ],
      "metadata": {
        "colab": {
          "base_uri": "https://localhost:8080/"
        },
        "id": "2bJ7c2BApKw9",
        "outputId": "4022bbe9-2cc2-41a5-cb60-315465596268"
      },
      "execution_count": 17,
      "outputs": [
        {
          "output_type": "execute_result",
          "data": {
            "text/plain": [
              "LOWER MERION    8443\n",
              "ABINGTON        5977\n",
              "NORRISTOWN      5890\n",
              "UPPER MERION    5227\n",
              "CHELTENHAM      4575\n",
              "Name: twp, dtype: int64"
            ]
          },
          "metadata": {},
          "execution_count": 17
        }
      ]
    },
    {
      "cell_type": "code",
      "source": [
        "query = \"Select * From (select twp, count(*) from df group by zip order by 2 desc) limit 5\"\n",
        "print('\\n') # New line\n",
        "print(ps.sqldf(query, locals()))"
      ],
      "metadata": {
        "colab": {
          "base_uri": "https://localhost:8080/"
        },
        "id": "1Gz9XhsopKtk",
        "outputId": "927e6a22-da88-4678-b91e-c8006cc74a78"
      },
      "execution_count": 18,
      "outputs": [
        {
          "output_type": "stream",
          "name": "stdout",
          "text": [
            "\n",
            "\n",
            "                twp  count(*)\n",
            "0          DOUGLASS     12855\n",
            "1        NORRISTOWN      6979\n",
            "2         POTTSTOWN      6643\n",
            "3  LOWER PROVIDENCE      4854\n",
            "4     UPPER GWYNEDD      4748\n"
          ]
        }
      ]
    },
    {
      "cell_type": "code",
      "source": [
        "#Show the new line using print ('\\n')"
      ],
      "metadata": {
        "id": "yYJTA7EX3MBI"
      },
      "execution_count": null,
      "outputs": []
    },
    {
      "cell_type": "code",
      "source": [
        "print('\\nSomething\\rsomthing else')"
      ],
      "metadata": {
        "colab": {
          "base_uri": "https://localhost:8080/"
        },
        "id": "1hObLENLpKqW",
        "outputId": "41c5f074-3851-4c70-805a-06947e2db40a"
      },
      "execution_count": 19,
      "outputs": [
        {
          "output_type": "stream",
          "name": "stdout",
          "text": [
            "\n",
            "Something\rsomthing else\n"
          ]
        }
      ]
    },
    {
      "cell_type": "code",
      "source": [],
      "metadata": {
        "id": "vicig1lOpKm0"
      },
      "execution_count": null,
      "outputs": []
    },
    {
      "cell_type": "code",
      "source": [],
      "metadata": {
        "id": "7P-XUgXBpKjc"
      },
      "execution_count": null,
      "outputs": []
    },
    {
      "cell_type": "markdown",
      "source": [
        "#What is the most common reason for a 911 call based off emergency?"
      ],
      "metadata": {
        "id": "SEDk0zg0pKgg"
      }
    },
    {
      "cell_type": "markdown",
      "source": [
        "# First look at your data below"
      ],
      "metadata": {
        "id": "eubxbNWU1JUQ"
      }
    },
    {
      "cell_type": "code",
      "source": [],
      "metadata": {
        "id": "YWXQhe_c27F5"
      },
      "execution_count": null,
      "outputs": []
    },
    {
      "cell_type": "code",
      "source": [
        "#Show the data- first five unless you fill number into the ()"
      ],
      "metadata": {
        "id": "3SKcAGPG26-w"
      },
      "execution_count": null,
      "outputs": []
    },
    {
      "cell_type": "code",
      "source": [
        "df.head()"
      ],
      "metadata": {
        "colab": {
          "base_uri": "https://localhost:8080/",
          "height": 250
        },
        "id": "TAObdPLjpKdY",
        "outputId": "9edc40e7-2f63-4f5d-8030-9076bcafa37a"
      },
      "execution_count": 20,
      "outputs": [
        {
          "output_type": "execute_result",
          "data": {
            "text/plain": [
              "         lat        lng                                               desc  \\\n",
              "0  40.297876 -75.581294  REINDEER CT & DEAD END;  NEW HANOVER; Station ...   \n",
              "1  40.258061 -75.264680  BRIAR PATH & WHITEMARSH LN;  HATFIELD TOWNSHIP...   \n",
              "2  40.121182 -75.351975  HAWS AVE; NORRISTOWN; 2015-12-10 @ 14:39:21-St...   \n",
              "3  40.116153 -75.343513  AIRY ST & SWEDE ST;  NORRISTOWN; Station 308A;...   \n",
              "4  40.251492 -75.603350  CHERRYWOOD CT & DEAD END;  LOWER POTTSGROVE; S...   \n",
              "\n",
              "       zip                    title            timeStamp                twp  \\\n",
              "0  19525.0   EMS: BACK PAINS/INJURY  2015-12-10 17:40:00        NEW HANOVER   \n",
              "1  19446.0  EMS: DIABETIC EMERGENCY  2015-12-10 17:40:00  HATFIELD TOWNSHIP   \n",
              "2  19401.0      Fire: GAS-ODOR/LEAK  2015-12-10 17:40:00         NORRISTOWN   \n",
              "3  19401.0   EMS: CARDIAC EMERGENCY  2015-12-10 17:40:01         NORRISTOWN   \n",
              "4      NaN           EMS: DIZZINESS  2015-12-10 17:40:01   LOWER POTTSGROVE   \n",
              "\n",
              "                         addr  e  \n",
              "0      REINDEER CT & DEAD END  1  \n",
              "1  BRIAR PATH & WHITEMARSH LN  1  \n",
              "2                    HAWS AVE  1  \n",
              "3          AIRY ST & SWEDE ST  1  \n",
              "4    CHERRYWOOD CT & DEAD END  1  "
            ],
            "text/html": [
              "\n",
              "  <div id=\"df-bf7fed22-e7e9-45dd-a903-b3f6ff6a21b2\">\n",
              "    <div class=\"colab-df-container\">\n",
              "      <div>\n",
              "<style scoped>\n",
              "    .dataframe tbody tr th:only-of-type {\n",
              "        vertical-align: middle;\n",
              "    }\n",
              "\n",
              "    .dataframe tbody tr th {\n",
              "        vertical-align: top;\n",
              "    }\n",
              "\n",
              "    .dataframe thead th {\n",
              "        text-align: right;\n",
              "    }\n",
              "</style>\n",
              "<table border=\"1\" class=\"dataframe\">\n",
              "  <thead>\n",
              "    <tr style=\"text-align: right;\">\n",
              "      <th></th>\n",
              "      <th>lat</th>\n",
              "      <th>lng</th>\n",
              "      <th>desc</th>\n",
              "      <th>zip</th>\n",
              "      <th>title</th>\n",
              "      <th>timeStamp</th>\n",
              "      <th>twp</th>\n",
              "      <th>addr</th>\n",
              "      <th>e</th>\n",
              "    </tr>\n",
              "  </thead>\n",
              "  <tbody>\n",
              "    <tr>\n",
              "      <th>0</th>\n",
              "      <td>40.297876</td>\n",
              "      <td>-75.581294</td>\n",
              "      <td>REINDEER CT &amp; DEAD END;  NEW HANOVER; Station ...</td>\n",
              "      <td>19525.0</td>\n",
              "      <td>EMS: BACK PAINS/INJURY</td>\n",
              "      <td>2015-12-10 17:40:00</td>\n",
              "      <td>NEW HANOVER</td>\n",
              "      <td>REINDEER CT &amp; DEAD END</td>\n",
              "      <td>1</td>\n",
              "    </tr>\n",
              "    <tr>\n",
              "      <th>1</th>\n",
              "      <td>40.258061</td>\n",
              "      <td>-75.264680</td>\n",
              "      <td>BRIAR PATH &amp; WHITEMARSH LN;  HATFIELD TOWNSHIP...</td>\n",
              "      <td>19446.0</td>\n",
              "      <td>EMS: DIABETIC EMERGENCY</td>\n",
              "      <td>2015-12-10 17:40:00</td>\n",
              "      <td>HATFIELD TOWNSHIP</td>\n",
              "      <td>BRIAR PATH &amp; WHITEMARSH LN</td>\n",
              "      <td>1</td>\n",
              "    </tr>\n",
              "    <tr>\n",
              "      <th>2</th>\n",
              "      <td>40.121182</td>\n",
              "      <td>-75.351975</td>\n",
              "      <td>HAWS AVE; NORRISTOWN; 2015-12-10 @ 14:39:21-St...</td>\n",
              "      <td>19401.0</td>\n",
              "      <td>Fire: GAS-ODOR/LEAK</td>\n",
              "      <td>2015-12-10 17:40:00</td>\n",
              "      <td>NORRISTOWN</td>\n",
              "      <td>HAWS AVE</td>\n",
              "      <td>1</td>\n",
              "    </tr>\n",
              "    <tr>\n",
              "      <th>3</th>\n",
              "      <td>40.116153</td>\n",
              "      <td>-75.343513</td>\n",
              "      <td>AIRY ST &amp; SWEDE ST;  NORRISTOWN; Station 308A;...</td>\n",
              "      <td>19401.0</td>\n",
              "      <td>EMS: CARDIAC EMERGENCY</td>\n",
              "      <td>2015-12-10 17:40:01</td>\n",
              "      <td>NORRISTOWN</td>\n",
              "      <td>AIRY ST &amp; SWEDE ST</td>\n",
              "      <td>1</td>\n",
              "    </tr>\n",
              "    <tr>\n",
              "      <th>4</th>\n",
              "      <td>40.251492</td>\n",
              "      <td>-75.603350</td>\n",
              "      <td>CHERRYWOOD CT &amp; DEAD END;  LOWER POTTSGROVE; S...</td>\n",
              "      <td>NaN</td>\n",
              "      <td>EMS: DIZZINESS</td>\n",
              "      <td>2015-12-10 17:40:01</td>\n",
              "      <td>LOWER POTTSGROVE</td>\n",
              "      <td>CHERRYWOOD CT &amp; DEAD END</td>\n",
              "      <td>1</td>\n",
              "    </tr>\n",
              "  </tbody>\n",
              "</table>\n",
              "</div>\n",
              "      <button class=\"colab-df-convert\" onclick=\"convertToInteractive('df-bf7fed22-e7e9-45dd-a903-b3f6ff6a21b2')\"\n",
              "              title=\"Convert this dataframe to an interactive table.\"\n",
              "              style=\"display:none;\">\n",
              "        \n",
              "  <svg xmlns=\"http://www.w3.org/2000/svg\" height=\"24px\"viewBox=\"0 0 24 24\"\n",
              "       width=\"24px\">\n",
              "    <path d=\"M0 0h24v24H0V0z\" fill=\"none\"/>\n",
              "    <path d=\"M18.56 5.44l.94 2.06.94-2.06 2.06-.94-2.06-.94-.94-2.06-.94 2.06-2.06.94zm-11 1L8.5 8.5l.94-2.06 2.06-.94-2.06-.94L8.5 2.5l-.94 2.06-2.06.94zm10 10l.94 2.06.94-2.06 2.06-.94-2.06-.94-.94-2.06-.94 2.06-2.06.94z\"/><path d=\"M17.41 7.96l-1.37-1.37c-.4-.4-.92-.59-1.43-.59-.52 0-1.04.2-1.43.59L10.3 9.45l-7.72 7.72c-.78.78-.78 2.05 0 2.83L4 21.41c.39.39.9.59 1.41.59.51 0 1.02-.2 1.41-.59l7.78-7.78 2.81-2.81c.8-.78.8-2.07 0-2.86zM5.41 20L4 18.59l7.72-7.72 1.47 1.35L5.41 20z\"/>\n",
              "  </svg>\n",
              "      </button>\n",
              "      \n",
              "  <style>\n",
              "    .colab-df-container {\n",
              "      display:flex;\n",
              "      flex-wrap:wrap;\n",
              "      gap: 12px;\n",
              "    }\n",
              "\n",
              "    .colab-df-convert {\n",
              "      background-color: #E8F0FE;\n",
              "      border: none;\n",
              "      border-radius: 50%;\n",
              "      cursor: pointer;\n",
              "      display: none;\n",
              "      fill: #1967D2;\n",
              "      height: 32px;\n",
              "      padding: 0 0 0 0;\n",
              "      width: 32px;\n",
              "    }\n",
              "\n",
              "    .colab-df-convert:hover {\n",
              "      background-color: #E2EBFA;\n",
              "      box-shadow: 0px 1px 2px rgba(60, 64, 67, 0.3), 0px 1px 3px 1px rgba(60, 64, 67, 0.15);\n",
              "      fill: #174EA6;\n",
              "    }\n",
              "\n",
              "    [theme=dark] .colab-df-convert {\n",
              "      background-color: #3B4455;\n",
              "      fill: #D2E3FC;\n",
              "    }\n",
              "\n",
              "    [theme=dark] .colab-df-convert:hover {\n",
              "      background-color: #434B5C;\n",
              "      box-shadow: 0px 1px 3px 1px rgba(0, 0, 0, 0.15);\n",
              "      filter: drop-shadow(0px 1px 2px rgba(0, 0, 0, 0.3));\n",
              "      fill: #FFFFFF;\n",
              "    }\n",
              "  </style>\n",
              "\n",
              "      <script>\n",
              "        const buttonEl =\n",
              "          document.querySelector('#df-bf7fed22-e7e9-45dd-a903-b3f6ff6a21b2 button.colab-df-convert');\n",
              "        buttonEl.style.display =\n",
              "          google.colab.kernel.accessAllowed ? 'block' : 'none';\n",
              "\n",
              "        async function convertToInteractive(key) {\n",
              "          const element = document.querySelector('#df-bf7fed22-e7e9-45dd-a903-b3f6ff6a21b2');\n",
              "          const dataTable =\n",
              "            await google.colab.kernel.invokeFunction('convertToInteractive',\n",
              "                                                     [key], {});\n",
              "          if (!dataTable) return;\n",
              "\n",
              "          const docLinkHtml = 'Like what you see? Visit the ' +\n",
              "            '<a target=\"_blank\" href=https://colab.research.google.com/notebooks/data_table.ipynb>data table notebook</a>'\n",
              "            + ' to learn more about interactive tables.';\n",
              "          element.innerHTML = '';\n",
              "          dataTable['output_type'] = 'display_data';\n",
              "          await google.colab.output.renderOutput(dataTable, element);\n",
              "          const docLink = document.createElement('div');\n",
              "          docLink.innerHTML = docLinkHtml;\n",
              "          element.appendChild(docLink);\n",
              "        }\n",
              "      </script>\n",
              "    </div>\n",
              "  </div>\n",
              "  "
            ]
          },
          "metadata": {},
          "execution_count": 20
        }
      ]
    },
    {
      "cell_type": "code",
      "source": [
        "#Count the titles"
      ],
      "metadata": {
        "id": "p3j8_yI43D1R"
      },
      "execution_count": null,
      "outputs": []
    },
    {
      "cell_type": "code",
      "source": [
        "df['title'].value_counts()"
      ],
      "metadata": {
        "colab": {
          "base_uri": "https://localhost:8080/"
        },
        "id": "oQkcryYEpKaF",
        "outputId": "de37a39a-5288-4cf0-c368-5a07b50cebe4"
      },
      "execution_count": 22,
      "outputs": [
        {
          "output_type": "execute_result",
          "data": {
            "text/plain": [
              "Traffic: VEHICLE ACCIDENT -        23066\n",
              "Traffic: DISABLED VEHICLE -         7702\n",
              "Fire: FIRE ALARM                    5496\n",
              "EMS: RESPIRATORY EMERGENCY          5112\n",
              "EMS: CARDIAC EMERGENCY              5012\n",
              "                                   ...  \n",
              "EMS: DISABLED VEHICLE                  1\n",
              "Fire: UNKNOWN MEDICAL EMERGENCY        1\n",
              "Fire: DIABETIC EMERGENCY               1\n",
              "EMS: BOMB DEVICE FOUND                 1\n",
              "Fire: SYNCOPAL EPISODE                 1\n",
              "Name: title, Length: 110, dtype: int64"
            ]
          },
          "metadata": {},
          "execution_count": 22
        }
      ]
    },
    {
      "cell_type": "code",
      "source": [
        "#gives the same info as above code"
      ],
      "metadata": {
        "id": "cpDTCA4Iu1Kf"
      },
      "execution_count": null,
      "outputs": []
    },
    {
      "cell_type": "code",
      "source": [],
      "metadata": {
        "id": "l_KvXACVu1CP"
      },
      "execution_count": null,
      "outputs": []
    },
    {
      "cell_type": "markdown",
      "source": [
        "#Select distict titles from the dataset"
      ],
      "metadata": {
        "id": "x7UA0cPB1SoI"
      }
    },
    {
      "cell_type": "code",
      "source": [
        "# Use query to select disctinct title from the data to df"
      ],
      "metadata": {
        "id": "G-qTm92h2z0o"
      },
      "execution_count": null,
      "outputs": []
    },
    {
      "cell_type": "code",
      "source": [
        "query = \"Select distinct title from df\"\n",
        "print('\\n') # New line\n",
        "print(ps.sqldf(query, locals()))"
      ],
      "metadata": {
        "colab": {
          "base_uri": "https://localhost:8080/"
        },
        "id": "u8zoj2FJpKXM",
        "outputId": "b82c970b-dcbc-40bb-9bb1-ccfeaa480fd9"
      },
      "execution_count": 23,
      "outputs": [
        {
          "output_type": "stream",
          "name": "stdout",
          "text": [
            "\n",
            "\n",
            "                        title\n",
            "0      EMS: BACK PAINS/INJURY\n",
            "1     EMS: DIABETIC EMERGENCY\n",
            "2         Fire: GAS-ODOR/LEAK\n",
            "3      EMS: CARDIAC EMERGENCY\n",
            "4              EMS: DIZZINESS\n",
            "..                        ...\n",
            "105    EMS: BOMB DEVICE FOUND\n",
            "106    Fire: SYNCOPAL EPISODE\n",
            "107  EMS: INDUSTRIAL ACCIDENT\n",
            "108             EMS: DROWNING\n",
            "109           EMS: SUSPICIOUS\n",
            "\n",
            "[110 rows x 1 columns]\n"
          ]
        }
      ]
    },
    {
      "cell_type": "markdown",
      "source": [
        "#We find that the title field is structered by reason : type of reason or departments- code below"
      ],
      "metadata": {
        "id": "-ssduE4qpKUA"
      }
    },
    {
      "cell_type": "code",
      "source": [
        "# Create the function (reason) with the word lambda (anonymous functions, serverless function) and then split the title"
      ],
      "metadata": {
        "id": "hZJM5ZWlv3LR"
      },
      "execution_count": null,
      "outputs": []
    },
    {
      "cell_type": "code",
      "source": [
        "df['reason']=df['title'].apply(lambda title: title.split(':')[0])"
      ],
      "metadata": {
        "id": "qWvOkfLdpKQ8"
      },
      "execution_count": 27,
      "outputs": []
    },
    {
      "cell_type": "code",
      "source": [
        "# Demonstrate the data columns with the new reason section"
      ],
      "metadata": {
        "id": "mc6NQ4Kh2qZ5"
      },
      "execution_count": null,
      "outputs": []
    },
    {
      "cell_type": "code",
      "source": [
        "df.head()"
      ],
      "metadata": {
        "colab": {
          "base_uri": "https://localhost:8080/",
          "height": 337
        },
        "id": "vk0dewUqxB4Y",
        "outputId": "8a251c62-6f1e-42cd-bc36-f7cc1e704636"
      },
      "execution_count": 28,
      "outputs": [
        {
          "output_type": "execute_result",
          "data": {
            "text/plain": [
              "         lat        lng                                               desc  \\\n",
              "0  40.297876 -75.581294  REINDEER CT & DEAD END;  NEW HANOVER; Station ...   \n",
              "1  40.258061 -75.264680  BRIAR PATH & WHITEMARSH LN;  HATFIELD TOWNSHIP...   \n",
              "2  40.121182 -75.351975  HAWS AVE; NORRISTOWN; 2015-12-10 @ 14:39:21-St...   \n",
              "3  40.116153 -75.343513  AIRY ST & SWEDE ST;  NORRISTOWN; Station 308A;...   \n",
              "4  40.251492 -75.603350  CHERRYWOOD CT & DEAD END;  LOWER POTTSGROVE; S...   \n",
              "\n",
              "       zip                    title            timeStamp                twp  \\\n",
              "0  19525.0   EMS: BACK PAINS/INJURY  2015-12-10 17:40:00        NEW HANOVER   \n",
              "1  19446.0  EMS: DIABETIC EMERGENCY  2015-12-10 17:40:00  HATFIELD TOWNSHIP   \n",
              "2  19401.0      Fire: GAS-ODOR/LEAK  2015-12-10 17:40:00         NORRISTOWN   \n",
              "3  19401.0   EMS: CARDIAC EMERGENCY  2015-12-10 17:40:01         NORRISTOWN   \n",
              "4      NaN           EMS: DIZZINESS  2015-12-10 17:40:01   LOWER POTTSGROVE   \n",
              "\n",
              "                         addr  e reason  \n",
              "0      REINDEER CT & DEAD END  1    EMS  \n",
              "1  BRIAR PATH & WHITEMARSH LN  1    EMS  \n",
              "2                    HAWS AVE  1   Fire  \n",
              "3          AIRY ST & SWEDE ST  1    EMS  \n",
              "4    CHERRYWOOD CT & DEAD END  1    EMS  "
            ],
            "text/html": [
              "\n",
              "  <div id=\"df-6ed3a704-9be0-4e7a-aa51-cb714c524892\">\n",
              "    <div class=\"colab-df-container\">\n",
              "      <div>\n",
              "<style scoped>\n",
              "    .dataframe tbody tr th:only-of-type {\n",
              "        vertical-align: middle;\n",
              "    }\n",
              "\n",
              "    .dataframe tbody tr th {\n",
              "        vertical-align: top;\n",
              "    }\n",
              "\n",
              "    .dataframe thead th {\n",
              "        text-align: right;\n",
              "    }\n",
              "</style>\n",
              "<table border=\"1\" class=\"dataframe\">\n",
              "  <thead>\n",
              "    <tr style=\"text-align: right;\">\n",
              "      <th></th>\n",
              "      <th>lat</th>\n",
              "      <th>lng</th>\n",
              "      <th>desc</th>\n",
              "      <th>zip</th>\n",
              "      <th>title</th>\n",
              "      <th>timeStamp</th>\n",
              "      <th>twp</th>\n",
              "      <th>addr</th>\n",
              "      <th>e</th>\n",
              "      <th>reason</th>\n",
              "    </tr>\n",
              "  </thead>\n",
              "  <tbody>\n",
              "    <tr>\n",
              "      <th>0</th>\n",
              "      <td>40.297876</td>\n",
              "      <td>-75.581294</td>\n",
              "      <td>REINDEER CT &amp; DEAD END;  NEW HANOVER; Station ...</td>\n",
              "      <td>19525.0</td>\n",
              "      <td>EMS: BACK PAINS/INJURY</td>\n",
              "      <td>2015-12-10 17:40:00</td>\n",
              "      <td>NEW HANOVER</td>\n",
              "      <td>REINDEER CT &amp; DEAD END</td>\n",
              "      <td>1</td>\n",
              "      <td>EMS</td>\n",
              "    </tr>\n",
              "    <tr>\n",
              "      <th>1</th>\n",
              "      <td>40.258061</td>\n",
              "      <td>-75.264680</td>\n",
              "      <td>BRIAR PATH &amp; WHITEMARSH LN;  HATFIELD TOWNSHIP...</td>\n",
              "      <td>19446.0</td>\n",
              "      <td>EMS: DIABETIC EMERGENCY</td>\n",
              "      <td>2015-12-10 17:40:00</td>\n",
              "      <td>HATFIELD TOWNSHIP</td>\n",
              "      <td>BRIAR PATH &amp; WHITEMARSH LN</td>\n",
              "      <td>1</td>\n",
              "      <td>EMS</td>\n",
              "    </tr>\n",
              "    <tr>\n",
              "      <th>2</th>\n",
              "      <td>40.121182</td>\n",
              "      <td>-75.351975</td>\n",
              "      <td>HAWS AVE; NORRISTOWN; 2015-12-10 @ 14:39:21-St...</td>\n",
              "      <td>19401.0</td>\n",
              "      <td>Fire: GAS-ODOR/LEAK</td>\n",
              "      <td>2015-12-10 17:40:00</td>\n",
              "      <td>NORRISTOWN</td>\n",
              "      <td>HAWS AVE</td>\n",
              "      <td>1</td>\n",
              "      <td>Fire</td>\n",
              "    </tr>\n",
              "    <tr>\n",
              "      <th>3</th>\n",
              "      <td>40.116153</td>\n",
              "      <td>-75.343513</td>\n",
              "      <td>AIRY ST &amp; SWEDE ST;  NORRISTOWN; Station 308A;...</td>\n",
              "      <td>19401.0</td>\n",
              "      <td>EMS: CARDIAC EMERGENCY</td>\n",
              "      <td>2015-12-10 17:40:01</td>\n",
              "      <td>NORRISTOWN</td>\n",
              "      <td>AIRY ST &amp; SWEDE ST</td>\n",
              "      <td>1</td>\n",
              "      <td>EMS</td>\n",
              "    </tr>\n",
              "    <tr>\n",
              "      <th>4</th>\n",
              "      <td>40.251492</td>\n",
              "      <td>-75.603350</td>\n",
              "      <td>CHERRYWOOD CT &amp; DEAD END;  LOWER POTTSGROVE; S...</td>\n",
              "      <td>NaN</td>\n",
              "      <td>EMS: DIZZINESS</td>\n",
              "      <td>2015-12-10 17:40:01</td>\n",
              "      <td>LOWER POTTSGROVE</td>\n",
              "      <td>CHERRYWOOD CT &amp; DEAD END</td>\n",
              "      <td>1</td>\n",
              "      <td>EMS</td>\n",
              "    </tr>\n",
              "  </tbody>\n",
              "</table>\n",
              "</div>\n",
              "      <button class=\"colab-df-convert\" onclick=\"convertToInteractive('df-6ed3a704-9be0-4e7a-aa51-cb714c524892')\"\n",
              "              title=\"Convert this dataframe to an interactive table.\"\n",
              "              style=\"display:none;\">\n",
              "        \n",
              "  <svg xmlns=\"http://www.w3.org/2000/svg\" height=\"24px\"viewBox=\"0 0 24 24\"\n",
              "       width=\"24px\">\n",
              "    <path d=\"M0 0h24v24H0V0z\" fill=\"none\"/>\n",
              "    <path d=\"M18.56 5.44l.94 2.06.94-2.06 2.06-.94-2.06-.94-.94-2.06-.94 2.06-2.06.94zm-11 1L8.5 8.5l.94-2.06 2.06-.94-2.06-.94L8.5 2.5l-.94 2.06-2.06.94zm10 10l.94 2.06.94-2.06 2.06-.94-2.06-.94-.94-2.06-.94 2.06-2.06.94z\"/><path d=\"M17.41 7.96l-1.37-1.37c-.4-.4-.92-.59-1.43-.59-.52 0-1.04.2-1.43.59L10.3 9.45l-7.72 7.72c-.78.78-.78 2.05 0 2.83L4 21.41c.39.39.9.59 1.41.59.51 0 1.02-.2 1.41-.59l7.78-7.78 2.81-2.81c.8-.78.8-2.07 0-2.86zM5.41 20L4 18.59l7.72-7.72 1.47 1.35L5.41 20z\"/>\n",
              "  </svg>\n",
              "      </button>\n",
              "      \n",
              "  <style>\n",
              "    .colab-df-container {\n",
              "      display:flex;\n",
              "      flex-wrap:wrap;\n",
              "      gap: 12px;\n",
              "    }\n",
              "\n",
              "    .colab-df-convert {\n",
              "      background-color: #E8F0FE;\n",
              "      border: none;\n",
              "      border-radius: 50%;\n",
              "      cursor: pointer;\n",
              "      display: none;\n",
              "      fill: #1967D2;\n",
              "      height: 32px;\n",
              "      padding: 0 0 0 0;\n",
              "      width: 32px;\n",
              "    }\n",
              "\n",
              "    .colab-df-convert:hover {\n",
              "      background-color: #E2EBFA;\n",
              "      box-shadow: 0px 1px 2px rgba(60, 64, 67, 0.3), 0px 1px 3px 1px rgba(60, 64, 67, 0.15);\n",
              "      fill: #174EA6;\n",
              "    }\n",
              "\n",
              "    [theme=dark] .colab-df-convert {\n",
              "      background-color: #3B4455;\n",
              "      fill: #D2E3FC;\n",
              "    }\n",
              "\n",
              "    [theme=dark] .colab-df-convert:hover {\n",
              "      background-color: #434B5C;\n",
              "      box-shadow: 0px 1px 3px 1px rgba(0, 0, 0, 0.15);\n",
              "      filter: drop-shadow(0px 1px 2px rgba(0, 0, 0, 0.3));\n",
              "      fill: #FFFFFF;\n",
              "    }\n",
              "  </style>\n",
              "\n",
              "      <script>\n",
              "        const buttonEl =\n",
              "          document.querySelector('#df-6ed3a704-9be0-4e7a-aa51-cb714c524892 button.colab-df-convert');\n",
              "        buttonEl.style.display =\n",
              "          google.colab.kernel.accessAllowed ? 'block' : 'none';\n",
              "\n",
              "        async function convertToInteractive(key) {\n",
              "          const element = document.querySelector('#df-6ed3a704-9be0-4e7a-aa51-cb714c524892');\n",
              "          const dataTable =\n",
              "            await google.colab.kernel.invokeFunction('convertToInteractive',\n",
              "                                                     [key], {});\n",
              "          if (!dataTable) return;\n",
              "\n",
              "          const docLinkHtml = 'Like what you see? Visit the ' +\n",
              "            '<a target=\"_blank\" href=https://colab.research.google.com/notebooks/data_table.ipynb>data table notebook</a>'\n",
              "            + ' to learn more about interactive tables.';\n",
              "          element.innerHTML = '';\n",
              "          dataTable['output_type'] = 'display_data';\n",
              "          await google.colab.output.renderOutput(dataTable, element);\n",
              "          const docLink = document.createElement('div');\n",
              "          docLink.innerHTML = docLinkHtml;\n",
              "          element.appendChild(docLink);\n",
              "        }\n",
              "      </script>\n",
              "    </div>\n",
              "  </div>\n",
              "  "
            ]
          },
          "metadata": {},
          "execution_count": 28
        }
      ]
    },
    {
      "cell_type": "markdown",
      "source": [],
      "metadata": {
        "id": "RgLBNgqH1nvh"
      }
    },
    {
      "cell_type": "code",
      "source": [
        "#Split the title and print the first part (0)"
      ],
      "metadata": {
        "id": "Xy6KAqQj1tTQ"
      },
      "execution_count": null,
      "outputs": []
    },
    {
      "cell_type": "code",
      "source": [
        "def title():\n",
        "          title.split(':')[0]"
      ],
      "metadata": {
        "id": "rFKY5vdspKNl"
      },
      "execution_count": 25,
      "outputs": []
    },
    {
      "cell_type": "markdown",
      "source": [],
      "metadata": {
        "id": "y_T62ZOp11mA"
      }
    },
    {
      "cell_type": "code",
      "source": [
        "# Example of how to use lambda"
      ],
      "metadata": {
        "id": "WQYvT4k014U4"
      },
      "execution_count": null,
      "outputs": []
    },
    {
      "cell_type": "code",
      "source": [
        "lambda x: x +2"
      ],
      "metadata": {
        "colab": {
          "base_uri": "https://localhost:8080/"
        },
        "id": "47LxN_7qpKKM",
        "outputId": "ebfceda7-26c8-4d85-8d2b-2d697c775032"
      },
      "execution_count": 26,
      "outputs": [
        {
          "output_type": "execute_result",
          "data": {
            "text/plain": [
              "<function __main__.<lambda>(x)>"
            ]
          },
          "metadata": {},
          "execution_count": 26
        }
      ]
    },
    {
      "cell_type": "code",
      "source": [
        "# x is a parameter inside the fucntion. x does not exist\n"
      ],
      "metadata": {
        "id": "-2MLd1n1pKHP"
      },
      "execution_count": null,
      "outputs": []
    },
    {
      "cell_type": "code",
      "source": [
        "# Grab the reason that was created and then give the count of each"
      ],
      "metadata": {
        "id": "x38WD6oS1-44"
      },
      "execution_count": null,
      "outputs": []
    },
    {
      "cell_type": "code",
      "source": [
        "df['reason'].value_counts()"
      ],
      "metadata": {
        "colab": {
          "base_uri": "https://localhost:8080/"
        },
        "id": "TcAIvViFpKEN",
        "outputId": "fe0449b0-aca0-4df2-8d01-5fd2f39f93f3"
      },
      "execution_count": 30,
      "outputs": [
        {
          "output_type": "execute_result",
          "data": {
            "text/plain": [
              "EMS        48877\n",
              "Traffic    35695\n",
              "Fire       14920\n",
              "Name: reason, dtype: int64"
            ]
          },
          "metadata": {},
          "execution_count": 30
        }
      ]
    },
    {
      "cell_type": "code",
      "source": [
        "# PLot of the data of the column 'reason'"
      ],
      "metadata": {
        "id": "Z7JBu1RJpKBP"
      },
      "execution_count": null,
      "outputs": []
    },
    {
      "cell_type": "code",
      "source": [
        "sns.countplot(x='reason',data=df, palette= 'tab10')"
      ],
      "metadata": {
        "colab": {
          "base_uri": "https://localhost:8080/",
          "height": 302
        },
        "id": "HiZXfm3WpJ-N",
        "outputId": "70eaf9f5-2e5b-4a46-ae68-c748eee40485"
      },
      "execution_count": 34,
      "outputs": [
        {
          "output_type": "execute_result",
          "data": {
            "text/plain": [
              "<matplotlib.axes._subplots.AxesSubplot at 0x7f8ff139b1d0>"
            ]
          },
          "metadata": {},
          "execution_count": 34
        },
        {
          "output_type": "display_data",
          "data": {
            "text/plain": [
              "<Figure size 432x288 with 1 Axes>"
            ],
            "image/png": "[encoded data removed]"
          },
          "metadata": {}
        }
      ]
    },
    {
      "cell_type": "code",
      "source": [
        "# drop the column 'title', axis 1= first axis"
      ],
      "metadata": {
        "id": "5A6TyQbT2M2A"
      },
      "execution_count": null,
      "outputs": []
    },
    {
      "cell_type": "code",
      "source": [
        "data = df.drop(['title'], axis=1)"
      ],
      "metadata": {
        "id": "Ff6T55Z1pJ7e"
      },
      "execution_count": 38,
      "outputs": []
    },
    {
      "cell_type": "code",
      "source": [
        "data.head"
      ],
      "metadata": {
        "colab": {
          "base_uri": "https://localhost:8080/"
        },
        "id": "pGKjXk8epJ4c",
        "outputId": "60a245ff-e8d2-43e2-f5d3-8fe1c4cae4d4"
      },
      "execution_count": 39,
      "outputs": [
        {
          "output_type": "execute_result",
          "data": {
            "text/plain": [
              "<bound method NDFrame.head of              lat        lng  \\\n",
              "0      40.297876 -75.581294   \n",
              "1      40.258061 -75.264680   \n",
              "2      40.121182 -75.351975   \n",
              "3      40.116153 -75.343513   \n",
              "4      40.251492 -75.603350   \n",
              "...          ...        ...   \n",
              "99487  40.132869 -75.333515   \n",
              "99488  40.006974 -75.289080   \n",
              "99489  40.115429 -75.334679   \n",
              "99490  40.186431 -75.192555   \n",
              "99491  40.207055 -75.317952   \n",
              "\n",
              "                                                    desc      zip  \\\n",
              "0      REINDEER CT & DEAD END;  NEW HANOVER; Station ...  19525.0   \n",
              "1      BRIAR PATH & WHITEMARSH LN;  HATFIELD TOWNSHIP...  19446.0   \n",
              "2      HAWS AVE; NORRISTOWN; 2015-12-10 @ 14:39:21-St...  19401.0   \n",
              "3      AIRY ST & SWEDE ST;  NORRISTOWN; Station 308A;...  19401.0   \n",
              "4      CHERRYWOOD CT & DEAD END;  LOWER POTTSGROVE; S...      NaN   \n",
              "...                                                  ...      ...   \n",
              "99487  MARKLEY ST & W LOGAN ST; NORRISTOWN; 2016-08-2...  19401.0   \n",
              "99488  LANCASTER AVE & RITTENHOUSE PL; LOWER MERION; ...  19003.0   \n",
              "99489  CHESTNUT ST & WALNUT ST;  NORRISTOWN; Station ...  19401.0   \n",
              "99490  WELSH RD & WEBSTER LN;  HORSHAM; Station 352; ...  19002.0   \n",
              "99491  MORRIS RD & S BROAD ST; UPPER GWYNEDD; 2016-08...  19446.0   \n",
              "\n",
              "                 timeStamp                twp                            addr  \\\n",
              "0      2015-12-10 17:40:00        NEW HANOVER          REINDEER CT & DEAD END   \n",
              "1      2015-12-10 17:40:00  HATFIELD TOWNSHIP      BRIAR PATH & WHITEMARSH LN   \n",
              "2      2015-12-10 17:40:00         NORRISTOWN                        HAWS AVE   \n",
              "3      2015-12-10 17:40:01         NORRISTOWN              AIRY ST & SWEDE ST   \n",
              "4      2015-12-10 17:40:01   LOWER POTTSGROVE        CHERRYWOOD CT & DEAD END   \n",
              "...                    ...                ...                             ...   \n",
              "99487  2016-08-24 11:06:00         NORRISTOWN         MARKLEY ST & W LOGAN ST   \n",
              "99488  2016-08-24 11:07:02       LOWER MERION  LANCASTER AVE & RITTENHOUSE PL   \n",
              "99489  2016-08-24 11:12:00         NORRISTOWN         CHESTNUT ST & WALNUT ST   \n",
              "99490  2016-08-24 11:17:01            HORSHAM           WELSH RD & WEBSTER LN   \n",
              "99491  2016-08-24 11:17:02      UPPER GWYNEDD          MORRIS RD & S BROAD ST   \n",
              "\n",
              "       e   reason  \n",
              "0      1      EMS  \n",
              "1      1      EMS  \n",
              "2      1     Fire  \n",
              "3      1      EMS  \n",
              "4      1      EMS  \n",
              "...   ..      ...  \n",
              "99487  1  Traffic  \n",
              "99488  1  Traffic  \n",
              "99489  1      EMS  \n",
              "99490  1      EMS  \n",
              "99491  1  Traffic  \n",
              "\n",
              "[99492 rows x 9 columns]>"
            ]
          },
          "metadata": {},
          "execution_count": 39
        }
      ]
    },
    {
      "cell_type": "code",
      "source": [
        "#Create a string called 'this is a string'"
      ],
      "metadata": {
        "id": "1oV02GmR2YZ4"
      },
      "execution_count": null,
      "outputs": []
    },
    {
      "cell_type": "code",
      "source": [
        "strn = 'This is a string'"
      ],
      "metadata": {
        "id": "MAFGO2LIpJwN"
      },
      "execution_count": 40,
      "outputs": []
    },
    {
      "cell_type": "code",
      "source": [
        "#Split the string where 'a' is and show the first part of the string"
      ],
      "metadata": {
        "id": "m6uAI-Qn2djY"
      },
      "execution_count": null,
      "outputs": []
    },
    {
      "cell_type": "code",
      "source": [
        "strn.split('a') [0] # The zero only gives the first part of the string"
      ],
      "metadata": {
        "colab": {
          "base_uri": "https://localhost:8080/",
          "height": 35
        },
        "id": "pz1P-Fv3zP0t",
        "outputId": "66dcfb2b-11a7-48a1-dd1d-1c9bf56858b6"
      },
      "execution_count": 42,
      "outputs": [
        {
          "output_type": "execute_result",
          "data": {
            "text/plain": [
              "'This is '"
            ],
            "application/vnd.google.colaboratory.intrinsic+json": {
              "type": "string"
            }
          },
          "metadata": {},
          "execution_count": 42
        }
      ]
    },
    {
      "cell_type": "code",
      "source": [
        "strn.split('a') [1] # Gives the second half"
      ],
      "metadata": {
        "colab": {
          "base_uri": "https://localhost:8080/",
          "height": 35
        },
        "id": "gBgory_fzSKx",
        "outputId": "ce98fa6d-5ddd-4332-8d4b-4e81197ea04f"
      },
      "execution_count": 43,
      "outputs": [
        {
          "output_type": "execute_result",
          "data": {
            "text/plain": [
              "' string'"
            ],
            "application/vnd.google.colaboratory.intrinsic+json": {
              "type": "string"
            }
          },
          "metadata": {},
          "execution_count": 43
        }
      ]
    },
    {
      "cell_type": "code",
      "source": [],
      "metadata": {
        "id": "p8GldvY4zg9n"
      },
      "execution_count": null,
      "outputs": []
    }
  ]
}